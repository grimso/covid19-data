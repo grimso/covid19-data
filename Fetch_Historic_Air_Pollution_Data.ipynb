{
 "cells": [
  {
   "cell_type": "code",
   "execution_count": null,
   "metadata": {
    "editable": true
   },
   "outputs": [],
   "source": [
    "import urllib.request\n",
    "import datetime\n",
    "import calendar\n",
    "from dateutil.relativedelta import relativedelta"
   ]
  },
  {
   "cell_type": "code",
   "execution_count": null,
   "metadata": {
    "editable": true
   },
   "outputs": [],
   "source": [
    "def increase_one_month(date_time,to_end_of_month=False):\n",
    "    date_time=date_time+relativedelta(months=1)\n",
    "    if to_end_of_month:\n",
    "        date_time=date_time.replace(day=calendar.monthrange(date_time.year,date_time.month)[-1])\n",
    "    return date_time"
   ]
  },
  {
   "cell_type": "code",
   "execution_count": null,
   "metadata": {
    "editable": true
   },
   "outputs": [],
   "source": [
    "polutant_info={\"PM10\":{\"id\":1,\"eval_id\":1},\n",
    "\"CO\":{\"id\":2,\"eval_id\":4},\n",
    "\"Ozon\":{\"id\":3,\"eval_id\":4},\n",
    "\"SO2\":{\"id\":4,\"eval_id\":1},\n",
    "\"NO2\":{\"id\":5,\"eval_id\":2}\n",
    "}\n"
   ]
  },
  {
   "cell_type": "code",
   "execution_count": null,
   "metadata": {
    "editable": true
   },
   "outputs": [],
   "source": [
    "for polutant,p_dict in polutant_info.items():\n",
    "    date_from=datetime.date(2019, 1, 1)\n",
    "    date_to=datetime.date(2019, 1, 8)\n",
    "    while date_to<datetime.date(2020,4,30):\n",
    "        urllib.request.urlretrieve(f\"https://www.umweltbundesamt.de/api/air_data/v2/measures/csv?date_from={date_from.strftime('%Y-%m-%d')}&time_from=12&date_to={date_to.strftime('%Y-%m-%d')}&time_to=12&data%5B0%5D%5Bco%5D={p_dict.get('id')}&data%5B0%5D%5Bsc%5D={p_dict.get('eval_id')}&lang=de\", f\"data/air_quality/{polutant}/{date_from.strftime('%Y-%m-%d')}_{date_to.strftime('%Y-%m-%d')}.csv\")\n",
    "        \n",
    "        date_from=date_from+relativedelta(days=7)\n",
    "        date_to=date_to+relativedelta(days=7)     "
   ]
  }
 ],
 "metadata": {
  "kernelspec": {
   "display_name": "Python 3",
   "language": "python",
   "name": "python3"
  },
  "language_info": {
   "codemirror_mode": {
    "name": "ipython",
    "version": 3
   },
   "file_extension": ".py",
   "mimetype": "text/x-python",
   "name": "python",
   "nbconvert_exporter": "python",
   "pygments_lexer": "ipython3",
   "version": "3.6.3"
  }
 },
 "nbformat": 4,
 "nbformat_minor": 4
}
