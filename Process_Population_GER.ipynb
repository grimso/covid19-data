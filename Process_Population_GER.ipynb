{
 "cells": [
  {
   "cell_type": "code",
   "execution_count": null,
   "metadata": {
    "editable": true
   },
   "outputs": [],
   "source": [
    "import pandas as pd\n",
    "import requests"
   ]
  },
  {
   "cell_type": "code",
   "execution_count": null,
   "metadata": {
    "editable": true
   },
   "outputs": [],
   "source": [
    "population_ger=pd.read_csv(\"data/12411-02-03-5-B.csv\",sep=\";\",encoding=\"ISO-8859-1\",skiprows=6)"
   ]
  },
  {
   "cell_type": "code",
   "execution_count": null,
   "metadata": {
    "editable": true
   },
   "outputs": [],
   "source": [
    "# first 8 and last 4 rows contain meta data -> drop\n",
    "population_ger.drop(population_ger.tail(4).index,inplace=True)\n",
    "# information not needed on larger age range \n",
    "population_ger.drop(index=0,inplace=True)\n",
    "# same columns don't have a proper name\n",
    "population_ger.rename(columns={\"Unnamed: 0\":\"county_id\",\"Unnamed: 1\": \"county_name\"},inplace=True)"
   ]
  },
  {
   "cell_type": "code",
   "execution_count": null,
   "metadata": {
    "editable": true
   },
   "outputs": [],
   "source": [
    "population_ger=population_ger[~(population_ger.loc[:,population_ger.columns[2:]]==\"-\").all(axis=1)]"
   ]
  },
  {
   "cell_type": "code",
   "execution_count": null,
   "metadata": {
    "editable": true
   },
   "outputs": [],
   "source": [
    "splitted=population_ger.county_name.str.split(\",\",expand=True)"
   ]
  },
  {
   "cell_type": "code",
   "execution_count": null,
   "metadata": {
    "editable": true
   },
   "outputs": [],
   "source": [
    "splitted.loc[splitted[2].notna(),1]=splitted.loc[splitted[2].notna(),2]"
   ]
  },
  {
   "cell_type": "code",
   "execution_count": null,
   "metadata": {
    "editable": true
   },
   "outputs": [],
   "source": [
    "population_ger[\"county_name\"]=splitted[0]\n",
    "population_ger[\"county_type\"]=splitted[1]"
   ]
  },
  {
   "cell_type": "code",
   "execution_count": null,
   "metadata": {
    "editable": true
   },
   "outputs": [],
   "source": [
    "gender_id_to_sheet_map={\"a\":\"Insgesamt\",\"m\":\"männlich\",\"w\":\"weiblich\"}"
   ]
  },
  {
   "cell_type": "code",
   "execution_count": null,
   "metadata": {
    "editable": true
   },
   "outputs": [],
   "source": [
    "id_vars=[\"county_id\",\"county_name\",\"county_type\"]"
   ]
  },
  {
   "cell_type": "code",
   "execution_count": null,
   "metadata": {
    "editable": true
   },
   "outputs": [],
   "source": [
    "df_l=[]\n",
    "for k,v in gender_id_to_sheet_map.items():\n",
    "    gender_columns=id_vars +population_ger.columns[population_ger.columns.str.contains(v)].tolist()\n",
    "    gender_df=population_ger[gender_columns].reset_index(drop=True)\n",
    "    gender_df.columns=id_vars+gender_df.iloc[0,~(gender_df.columns.isin(id_vars))].tolist()\n",
    "    gender_df.drop(0,inplace=True)\n",
    "    gender_df=gender_df.melt(id_vars=id_vars,var_name=\"range\")\n",
    "    gender_df[\"age_from\"]=pd.to_numeric(gender_df.range.str.extract(r'^(\\d+)')[0])\n",
    "    gender_df[\"age_to\"]=pd.to_numeric(gender_df.range.str.extract(r'unter (\\d+)')[0])\n",
    "    gender_df.loc[gender_df.age_to==3,\"age_from\"]=0\n",
    "    gender_df[\"gender\"]=k\n",
    "    df_l.append(gender_df)\n",
    "population_processed=pd.concat(df_l)"
   ]
  },
  {
   "cell_type": "code",
   "execution_count": null,
   "metadata": {
    "editable": true
   },
   "outputs": [],
   "source": [
    "address=\"Schwarzwald-Baar-Kreis,+Germany\"\n",
    "api_key=\"\"\n",
    "#r=requests.get(f\"https://maps.googleapis.com/maps/api/geocode/json?address={address}&key={api_key}\")"
   ]
  },
  {
   "cell_type": "raw",
   "metadata": {
    "editable": true
   },
   "source": [
    "r_l=[]\n",
    "for lk in population_processed.county_name.unique():\n",
    "    address=f\"{lk},+Germany\"\n",
    "    r=requests.get(f\"https://maps.googleapis.com/maps/api/geocode/json?address={address}&key={api_key}\")\n",
    "    r_l.append(r)\n",
    "    "
   ]
  },
  {
   "cell_type": "code",
   "execution_count": null,
   "metadata": {
    "editable": true
   },
   "outputs": [],
   "source": [
    "for i,lk in enumerate(population_processed.county_name.unique()):\n",
    "    if r_l[i].status_code!=200:\n",
    "        print(lk)\n",
    "    with open(f\"data/geolocation/{lk}.json\",\"w\") as f:\n",
    "        json.dump(r_l[i].json(),f)"
   ]
  },
  {
   "cell_type": "code",
   "execution_count": null,
   "metadata": {
    "editable": true
   },
   "outputs": [],
   "source": [
    "name_geo=[]\n",
    "for i,lk in enumerate(population_processed.county_name.unique()):\n",
    "    d=r_l[i].json()[\"results\"][0][\"geometry\"][\"location\"]\n",
    "    d[\"county_name\"]=lk\n",
    "    name_geo.append(d)\n"
   ]
  },
  {
   "cell_type": "code",
   "execution_count": null,
   "metadata": {
    "editable": true
   },
   "outputs": [],
   "source": [
    "geolocation=pd.DataFrame(name_geo)"
   ]
  },
  {
   "cell_type": "code",
   "execution_count": null,
   "metadata": {
    "editable": true
   },
   "outputs": [],
   "source": [
    "population_processed=population_processed.merge(geolocation,on=[\"county_name\"])"
   ]
  },
  {
   "cell_type": "code",
   "execution_count": null,
   "metadata": {
    "editable": true
   },
   "outputs": [],
   "source": [
    "population_processed.to_csv(\"data/processed/population_germany.csv\",index=False)"
   ]
  }
 ],
 "metadata": {
  "kernelspec": {
   "display_name": "Python 3",
   "language": "python",
   "name": "python3"
  },
  "language_info": {
   "codemirror_mode": {
    "name": "ipython",
    "version": 3
   },
   "file_extension": ".py",
   "mimetype": "text/x-python",
   "name": "python",
   "nbconvert_exporter": "python",
   "pygments_lexer": "ipython3",
   "version": "3.6.3"
  }
 },
 "nbformat": 4,
 "nbformat_minor": 4
}
